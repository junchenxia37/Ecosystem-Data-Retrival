{
 "cells": [
  {
   "cell_type": "code",
   "execution_count": 1,
   "metadata": {},
   "outputs": [
    {
     "name": "stderr",
     "output_type": "stream",
     "text": [
      "/var/folders/bk/9bv1rcr122zck_lsg9w52zph0000gn/T/ipykernel_4589/2336347967.py:1: DeprecationWarning: \n",
      "Pyarrow will become a required dependency of pandas in the next major release of pandas (pandas 3.0),\n",
      "(to allow more performant data types, such as the Arrow string type, and better interoperability with other libraries)\n",
      "but was not found to be installed on your system.\n",
      "If this would cause problems for you,\n",
      "please provide us feedback at https://github.com/pandas-dev/pandas/issues/54466\n",
      "        \n",
      "  import pandas as pd\n"
     ]
    }
   ],
   "source": [
    "import pandas as pd\n",
    "import json"
   ]
  },
  {
   "cell_type": "code",
   "execution_count": 2,
   "metadata": {},
   "outputs": [],
   "source": [
    "with open(\"aggregate.json\", \"r\") as f:\n",
    "    data = json.load()"
   ]
  },
  {
   "cell_type": "code",
   "execution_count": 15,
   "metadata": {},
   "outputs": [
    {
     "name": "stdout",
     "output_type": "stream",
     "text": [
      "borealis-block-finder\n",
      "dialect\n",
      "aptos-ansible\n",
      "collectibleswap-aptos\n",
      "flutter_playout\n",
      "plugins\n",
      "Rocket.Chat\n",
      "token\n",
      "safe-react\n",
      "remixe\n",
      "hummingbot_test\n",
      "dapp-test\n",
      "repo-a-a\n",
      "Nethereum.UI.Wallet.Sample\n",
      "uplink\n",
      "tink\n",
      "tendermint-1\n",
      "Mokita\n",
      "ganache\n",
      "CSV file has been created successfully.\n"
     ]
    }
   ],
   "source": [
    "import csv\n",
    "with open('aggregation_to_csv.csv', 'w', newline='') as csvfile:\n",
    "    fieldnames = ['orgs', 'repo', 'date', 'activities', 'count']\n",
    "    writer = csv.DictWriter(csvfile, fieldnames=fieldnames)\n",
    "    writer.writeheader()\n",
    "    for org_name in data:\n",
    "        for repo in data[org_name]:\n",
    "            for activity in data[org_name][repo]:\n",
    "                if data[org_name][repo][activity]==None:\n",
    "                    print(repo)\n",
    "                    continue\n",
    "                for properties in data[org_name][repo][activity]:\n",
    "                    if data[org_name][repo][activity][properties] == None:\n",
    "                        continue\n",
    "                    for item in data[org_name][repo][activity][properties]:\n",
    "                        writer.writerow({\n",
    "                            'orgs': org_name,\n",
    "                            'repo': repo,\n",
    "                            'date':item[0],\n",
    "                            'activities':f'{activity}:{properties}', \n",
    "                            'count': item[1]\n",
    "                        })\n",
    "\n",
    "print(\"CSV file has been created successfully.\")"
   ]
  },
  {
   "cell_type": "code",
   "execution_count": 3,
   "metadata": {},
   "outputs": [
    {
     "name": "stderr",
     "output_type": "stream",
     "text": [
      "/var/folders/bk/9bv1rcr122zck_lsg9w52zph0000gn/T/ipykernel_46641/2948383101.py:1: DeprecationWarning: \n",
      "Pyarrow will become a required dependency of pandas in the next major release of pandas (pandas 3.0),\n",
      "(to allow more performant data types, such as the Arrow string type, and better interoperability with other libraries)\n",
      "but was not found to be installed on your system.\n",
      "If this would cause problems for you,\n",
      "please provide us feedback at https://github.com/pandas-dev/pandas/issues/54466\n",
      "        \n",
      "  import pandas as pd\n"
     ]
    }
   ],
   "source": [
    "import pandas as pd\n",
    "df = pd.read_csv(\"aggregation_to_csv.csv\")"
   ]
  },
  {
   "cell_type": "code",
   "execution_count": null,
   "metadata": {},
   "outputs": [],
   "source": []
  }
 ],
 "metadata": {
  "kernelspec": {
   "display_name": "Python 3",
   "language": "python",
   "name": "python3"
  },
  "language_info": {
   "codemirror_mode": {
    "name": "ipython",
    "version": 3
   },
   "file_extension": ".py",
   "mimetype": "text/x-python",
   "name": "python",
   "nbconvert_exporter": "python",
   "pygments_lexer": "ipython3",
   "version": "3.12.1"
  }
 },
 "nbformat": 4,
 "nbformat_minor": 2
}
